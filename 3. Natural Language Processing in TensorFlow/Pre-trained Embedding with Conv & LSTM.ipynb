{
 "cells": [
  {
   "cell_type": "code",
   "execution_count": 0,
   "metadata": {
    "colab": {},
    "colab_type": "code",
    "id": "En6naQK8qhKE"
   },
   "outputs": [],
   "source": [
    "import json\n",
    "import tensorflow as tf\n",
    "import csv\n",
    "import random\n",
    "import numpy as np\n",
    "\n",
    "from tensorflow.keras.preprocessing.text import Tokenizer\n",
    "from tensorflow.keras.preprocessing.sequence import pad_sequences\n",
    "from tensorflow.keras.utils import to_categorical\n",
    "from tensorflow.keras import regularizers\n",
    "\n",
    "\n",
    "embedding_dim = 100\n",
    "max_length = 16\n",
    "trunc_type='post'\n",
    "padding_type='post'\n",
    "oov_tok = \"<OOV>\"\n",
    "training_size=160000\n",
    "test_portion=.1\n",
    "\n",
    "corpus = []\n"
   ]
  },
  {
   "cell_type": "code",
   "execution_count": 0,
   "metadata": {
    "colab": {
     "base_uri": "https://localhost:8080/",
     "height": 208
    },
    "colab_type": "code",
    "id": "9jQ25czgqyxz",
    "outputId": "7f85e54e-f7ae-4885-c55e-cdd2c44199d8"
   },
   "outputs": [
    {
     "name": "stdout",
     "output_type": "stream",
     "text": [
      "--2019-09-09 16:46:15--  https://storage.googleapis.com/laurencemoroney-blog.appspot.com/training_cleaned.csv\n",
      "Resolving storage.googleapis.com (storage.googleapis.com)... 216.58.197.208, 2404:6800:4004:80b::2010\n",
      "Connecting to storage.googleapis.com (storage.googleapis.com)|216.58.197.208|:443... connected.\n",
      "HTTP request sent, awaiting response... 200 OK\n",
      "Length: 238942690 (228M) [application/octet-stream]\n",
      "Saving to: ‘/tmp/training_cleaned.csv’\n",
      "\n",
      "/tmp/training_clean 100%[===================>] 227.87M  81.4MB/s    in 2.8s    \n",
      "\n",
      "2019-09-09 16:46:23 (81.4 MB/s) - ‘/tmp/training_cleaned.csv’ saved [238942690/238942690]\n",
      "\n"
     ]
    }
   ],
   "source": [
    "!wget --no-check-certificate \\\n",
    "    https://storage.googleapis.com/laurencemoroney-blog.appspot.com/training_cleaned.csv \\\n",
    "    -O /tmp/training_cleaned.csv\n",
    "\n",
    "num_sentences = 0\n",
    "\n",
    "with open(\"/tmp/training_cleaned.csv\") as csvfile:\n",
    "    reader = csv.reader(csvfile, delimiter=',')\n",
    "    for row in reader:\n",
    "        list_item=[]\n",
    "        list_item.append(row[5])\n",
    "        this_label=row[0]\n",
    "        if this_label=='0':\n",
    "            list_item.append(0)\n",
    "        else:\n",
    "            list_item.append(1)\n",
    "        num_sentences = num_sentences + 1\n",
    "        corpus.append(list_item)"
   ]
  },
  {
   "cell_type": "code",
   "execution_count": 0,
   "metadata": {
    "colab": {
     "base_uri": "https://localhost:8080/",
     "height": 69
    },
    "colab_type": "code",
    "id": "ZdmuVQF6rAtR",
    "outputId": "723f0541-6635-4c77-c26e-1dbf4b97e441"
   },
   "outputs": [
    {
     "name": "stdout",
     "output_type": "stream",
     "text": [
      "1600000\n",
      "1600000\n",
      "[\"is upset that he can't update his Facebook by texting it... and might cry as a result  School today also. Blah!\", 0]\n"
     ]
    }
   ],
   "source": [
    "print(num_sentences)\n",
    "print(len(corpus))\n",
    "print(corpus[1])\n"
   ]
  },
  {
   "cell_type": "code",
   "execution_count": 0,
   "metadata": {
    "colab": {},
    "colab_type": "code",
    "id": "htrK38_ErAv4"
   },
   "outputs": [],
   "source": [
    "sentences=[]\n",
    "labels=[]\n",
    "random.shuffle(corpus)\n",
    "for x in range(training_size):\n",
    "    sentences.append(corpus[x][0])\n",
    "    labels.append(corpus[x][1])\n",
    "\n",
    "\n",
    "tokenizer = Tokenizer()\n",
    "tokenizer.fit_on_texts(sentences)\n",
    "\n",
    "word_index = tokenizer.word_index\n",
    "vocab_size=len(word_index)\n",
    "\n",
    "sequences = tokenizer.texts_to_sequences(sentences)\n",
    "padded = pad_sequences(sequences, maxlen=max_length, padding=padding_type, truncating=trunc_type)\n",
    "\n",
    "split = int(test_portion * training_size)\n",
    "\n",
    "test_sequences = padded[0:split]\n",
    "training_sequences = padded[split:training_size]\n",
    "test_labels = labels[0:split]\n",
    "training_labels = labels[split:training_size]"
   ]
  },
  {
   "cell_type": "code",
   "execution_count": 0,
   "metadata": {
    "colab": {
     "base_uri": "https://localhost:8080/",
     "height": 52
    },
    "colab_type": "code",
    "id": "kkPPByvrrAya",
    "outputId": "8d67a0dd-84e6-4acd-ab33-dd6438fdc184"
   },
   "outputs": [
    {
     "name": "stdout",
     "output_type": "stream",
     "text": [
      "138323\n",
      "1\n"
     ]
    }
   ],
   "source": [
    "print(vocab_size)\n",
    "print(word_index['i'])"
   ]
  },
  {
   "cell_type": "code",
   "execution_count": 0,
   "metadata": {
    "colab": {
     "base_uri": "https://localhost:8080/",
     "height": 208
    },
    "colab_type": "code",
    "id": "nsu0U32FrA1B",
    "outputId": "abe9d723-5b8b-4eec-ab69-c44959b2e50b"
   },
   "outputs": [
    {
     "name": "stdout",
     "output_type": "stream",
     "text": [
      "--2019-09-09 16:52:19--  https://storage.googleapis.com/laurencemoroney-blog.appspot.com/glove.6B.100d.txt\n",
      "Resolving storage.googleapis.com (storage.googleapis.com)... 172.217.25.240, 2404:6800:4004:809::2010\n",
      "Connecting to storage.googleapis.com (storage.googleapis.com)|172.217.25.240|:443... connected.\n",
      "HTTP request sent, awaiting response... 200 OK\n",
      "Length: 347116733 (331M) [text/plain]\n",
      "Saving to: ‘/tmp/glove.6B.100d.txt’\n",
      "\n",
      "/tmp/glove.6B.100d. 100%[===================>] 331.04M   103MB/s    in 3.2s    \n",
      "\n",
      "2019-09-09 16:52:23 (103 MB/s) - ‘/tmp/glove.6B.100d.txt’ saved [347116733/347116733]\n",
      "\n"
     ]
    }
   ],
   "source": [
    "# Note this is the 100 dimension version of GloVe from Stanford\n",
    "# I unzipped and hosted it on my site to make this notebook easier\n",
    "!wget --no-check-certificate \\\n",
    "    https://storage.googleapis.com/laurencemoroney-blog.appspot.com/glove.6B.100d.txt \\\n",
    "    -O /tmp/glove.6B.100d.txt\n",
    "embeddings_index = {};\n",
    "with open('/tmp/glove.6B.100d.txt') as f:\n",
    "    for line in f:\n",
    "        values = line.split();\n",
    "        word = values[0];\n",
    "        coefs = np.asarray(values[1:], dtype='float32');\n",
    "        embeddings_index[word] = coefs;\n",
    "\n",
    "embeddings_matrix = np.zeros((vocab_size+1, embedding_dim));\n",
    "for word, i in word_index.items():\n",
    "    embedding_vector = embeddings_index.get(word);\n",
    "    if embedding_vector is not None:\n",
    "        embeddings_matrix[i] = embedding_vector;"
   ]
  },
  {
   "cell_type": "code",
   "execution_count": 0,
   "metadata": {
    "colab": {
     "base_uri": "https://localhost:8080/",
     "height": 35
    },
    "colab_type": "code",
    "id": "OMa23H4mrA3c",
    "outputId": "f162c32c-c2d6-441c-c048-a464f4cd038a"
   },
   "outputs": [
    {
     "name": "stdout",
     "output_type": "stream",
     "text": [
      "138324\n"
     ]
    }
   ],
   "source": [
    "print(len(embeddings_matrix))\n",
    "# Expected Output\n",
    "# 138859"
   ]
  },
  {
   "cell_type": "code",
   "execution_count": 0,
   "metadata": {
    "colab": {
     "base_uri": "https://localhost:8080/",
     "height": 1000
    },
    "colab_type": "code",
    "id": "BlQhX726rA-x",
    "outputId": "8a5b2735-6532-4a90-bf37-37def79a6ce4"
   },
   "outputs": [
    {
     "name": "stdout",
     "output_type": "stream",
     "text": [
      "WARNING:tensorflow:From /usr/local/lib/python3.6/dist-packages/tensorflow/python/keras/initializers.py:119: calling RandomUniform.__init__ (from tensorflow.python.ops.init_ops) with dtype is deprecated and will be removed in a future version.\n",
      "Instructions for updating:\n",
      "Call initializer instance with the dtype argument instead of passing it to the constructor\n",
      "WARNING:tensorflow:From /usr/local/lib/python3.6/dist-packages/tensorflow/python/ops/init_ops.py:1251: calling VarianceScaling.__init__ (from tensorflow.python.ops.init_ops) with dtype is deprecated and will be removed in a future version.\n",
      "Instructions for updating:\n",
      "Call initializer instance with the dtype argument instead of passing it to the constructor\n",
      "WARNING:tensorflow:From /usr/local/lib/python3.6/dist-packages/tensorflow/python/ops/nn_impl.py:180: add_dispatch_support.<locals>.wrapper (from tensorflow.python.ops.array_ops) is deprecated and will be removed in a future version.\n",
      "Instructions for updating:\n",
      "Use tf.where in 2.0, which has the same broadcast rule as np.where\n",
      "Model: \"sequential\"\n",
      "_________________________________________________________________\n",
      "Layer (type)                 Output Shape              Param #   \n",
      "=================================================================\n",
      "embedding (Embedding)        (None, 16, 100)           13832400  \n",
      "_________________________________________________________________\n",
      "dropout (Dropout)            (None, 16, 100)           0         \n",
      "_________________________________________________________________\n",
      "conv1d (Conv1D)              (None, 12, 64)            32064     \n",
      "_________________________________________________________________\n",
      "max_pooling1d (MaxPooling1D) (None, 3, 64)             0         \n",
      "_________________________________________________________________\n",
      "lstm (LSTM)                  (None, 64)                33024     \n",
      "_________________________________________________________________\n",
      "dense (Dense)                (None, 1)                 65        \n",
      "=================================================================\n",
      "Total params: 13,897,553\n",
      "Trainable params: 65,153\n",
      "Non-trainable params: 13,832,400\n",
      "_________________________________________________________________\n",
      "Train on 144000 samples, validate on 16000 samples\n",
      "Epoch 1/50\n",
      "144000/144000 - 43s - loss: 0.5675 - acc: 0.6995 - val_loss: 0.5258 - val_acc: 0.7321\n",
      "Epoch 2/50\n",
      "144000/144000 - 39s - loss: 0.5273 - acc: 0.7329 - val_loss: 0.5024 - val_acc: 0.7510\n",
      "Epoch 3/50\n",
      "144000/144000 - 40s - loss: 0.5104 - acc: 0.7443 - val_loss: 0.4960 - val_acc: 0.7527\n",
      "Epoch 4/50\n",
      "144000/144000 - 39s - loss: 0.5002 - acc: 0.7511 - val_loss: 0.4966 - val_acc: 0.7548\n",
      "Epoch 5/50\n",
      "144000/144000 - 40s - loss: 0.4902 - acc: 0.7585 - val_loss: 0.4883 - val_acc: 0.7616\n",
      "Epoch 6/50\n",
      "144000/144000 - 40s - loss: 0.4841 - acc: 0.7620 - val_loss: 0.4936 - val_acc: 0.7573\n",
      "Epoch 7/50\n",
      "144000/144000 - 40s - loss: 0.4780 - acc: 0.7666 - val_loss: 0.4909 - val_acc: 0.7578\n",
      "Epoch 8/50\n",
      "144000/144000 - 40s - loss: 0.4726 - acc: 0.7690 - val_loss: 0.4901 - val_acc: 0.7607\n",
      "Epoch 9/50\n",
      "144000/144000 - 40s - loss: 0.4682 - acc: 0.7711 - val_loss: 0.4903 - val_acc: 0.7584\n",
      "Epoch 10/50\n",
      "144000/144000 - 40s - loss: 0.4658 - acc: 0.7724 - val_loss: 0.4908 - val_acc: 0.7592\n",
      "Epoch 11/50\n",
      "144000/144000 - 40s - loss: 0.4619 - acc: 0.7755 - val_loss: 0.5008 - val_acc: 0.7569\n",
      "Epoch 12/50\n",
      "144000/144000 - 40s - loss: 0.4588 - acc: 0.7789 - val_loss: 0.5006 - val_acc: 0.7541\n",
      "Epoch 13/50\n",
      "144000/144000 - 40s - loss: 0.4551 - acc: 0.7813 - val_loss: 0.4958 - val_acc: 0.7573\n",
      "Epoch 14/50\n",
      "144000/144000 - 41s - loss: 0.4533 - acc: 0.7809 - val_loss: 0.5011 - val_acc: 0.7566\n",
      "Epoch 15/50\n",
      "144000/144000 - 40s - loss: 0.4520 - acc: 0.7816 - val_loss: 0.4961 - val_acc: 0.7564\n",
      "Epoch 16/50\n",
      "144000/144000 - 40s - loss: 0.4497 - acc: 0.7838 - val_loss: 0.4993 - val_acc: 0.7576\n",
      "Epoch 17/50\n",
      "144000/144000 - 41s - loss: 0.4480 - acc: 0.7847 - val_loss: 0.5012 - val_acc: 0.7552\n",
      "Epoch 18/50\n",
      "144000/144000 - 41s - loss: 0.4473 - acc: 0.7845 - val_loss: 0.4979 - val_acc: 0.7557\n",
      "Epoch 19/50\n",
      "144000/144000 - 41s - loss: 0.4456 - acc: 0.7865 - val_loss: 0.5091 - val_acc: 0.7517\n",
      "Epoch 20/50\n",
      "144000/144000 - 41s - loss: 0.4439 - acc: 0.7874 - val_loss: 0.5062 - val_acc: 0.7556\n",
      "Epoch 21/50\n",
      "144000/144000 - 41s - loss: 0.4436 - acc: 0.7880 - val_loss: 0.5063 - val_acc: 0.7514\n",
      "Epoch 22/50\n",
      "144000/144000 - 41s - loss: 0.4413 - acc: 0.7886 - val_loss: 0.5050 - val_acc: 0.7561\n",
      "Epoch 23/50\n",
      "144000/144000 - 41s - loss: 0.4407 - acc: 0.7898 - val_loss: 0.5026 - val_acc: 0.7566\n",
      "Epoch 24/50\n",
      "144000/144000 - 41s - loss: 0.4395 - acc: 0.7890 - val_loss: 0.5051 - val_acc: 0.7561\n",
      "Epoch 25/50\n",
      "144000/144000 - 41s - loss: 0.4383 - acc: 0.7895 - val_loss: 0.5053 - val_acc: 0.7536\n",
      "Epoch 26/50\n",
      "144000/144000 - 41s - loss: 0.4385 - acc: 0.7905 - val_loss: 0.5039 - val_acc: 0.7552\n",
      "Epoch 27/50\n",
      "144000/144000 - 41s - loss: 0.4374 - acc: 0.7914 - val_loss: 0.5030 - val_acc: 0.7558\n",
      "Epoch 28/50\n",
      "144000/144000 - 41s - loss: 0.4370 - acc: 0.7911 - val_loss: 0.5021 - val_acc: 0.7573\n",
      "Epoch 29/50\n",
      "144000/144000 - 41s - loss: 0.4365 - acc: 0.7914 - val_loss: 0.5036 - val_acc: 0.7556\n",
      "Epoch 30/50\n",
      "144000/144000 - 41s - loss: 0.4351 - acc: 0.7929 - val_loss: 0.5074 - val_acc: 0.7551\n",
      "Epoch 31/50\n",
      "144000/144000 - 41s - loss: 0.4341 - acc: 0.7926 - val_loss: 0.5092 - val_acc: 0.7544\n",
      "Epoch 32/50\n",
      "144000/144000 - 41s - loss: 0.4348 - acc: 0.7922 - val_loss: 0.5082 - val_acc: 0.7535\n",
      "Epoch 33/50\n",
      "144000/144000 - 41s - loss: 0.4333 - acc: 0.7939 - val_loss: 0.5181 - val_acc: 0.7527\n",
      "Epoch 34/50\n",
      "144000/144000 - 40s - loss: 0.4337 - acc: 0.7933 - val_loss: 0.5055 - val_acc: 0.7554\n",
      "Epoch 35/50\n",
      "144000/144000 - 40s - loss: 0.4329 - acc: 0.7943 - val_loss: 0.5076 - val_acc: 0.7527\n",
      "Epoch 36/50\n",
      "144000/144000 - 41s - loss: 0.4326 - acc: 0.7934 - val_loss: 0.5072 - val_acc: 0.7549\n",
      "Epoch 37/50\n",
      "144000/144000 - 40s - loss: 0.4323 - acc: 0.7947 - val_loss: 0.5052 - val_acc: 0.7558\n",
      "Epoch 38/50\n",
      "144000/144000 - 40s - loss: 0.4329 - acc: 0.7937 - val_loss: 0.5058 - val_acc: 0.7541\n",
      "Epoch 39/50\n",
      "144000/144000 - 40s - loss: 0.4317 - acc: 0.7949 - val_loss: 0.5046 - val_acc: 0.7567\n",
      "Epoch 40/50\n",
      "144000/144000 - 40s - loss: 0.4311 - acc: 0.7942 - val_loss: 0.5056 - val_acc: 0.7565\n",
      "Epoch 41/50\n",
      "144000/144000 - 40s - loss: 0.4314 - acc: 0.7943 - val_loss: 0.5151 - val_acc: 0.7556\n",
      "Epoch 42/50\n",
      "144000/144000 - 40s - loss: 0.4295 - acc: 0.7960 - val_loss: 0.5169 - val_acc: 0.7518\n",
      "Epoch 43/50\n",
      "144000/144000 - 40s - loss: 0.4312 - acc: 0.7950 - val_loss: 0.5092 - val_acc: 0.7519\n",
      "Epoch 44/50\n",
      "144000/144000 - 41s - loss: 0.4296 - acc: 0.7953 - val_loss: 0.5120 - val_acc: 0.7529\n",
      "Epoch 45/50\n",
      "144000/144000 - 41s - loss: 0.4295 - acc: 0.7956 - val_loss: 0.5169 - val_acc: 0.7524\n",
      "Epoch 46/50\n",
      "144000/144000 - 41s - loss: 0.4291 - acc: 0.7969 - val_loss: 0.5113 - val_acc: 0.7531\n",
      "Epoch 47/50\n",
      "144000/144000 - 41s - loss: 0.4294 - acc: 0.7958 - val_loss: 0.5124 - val_acc: 0.7540\n",
      "Epoch 48/50\n",
      "144000/144000 - 41s - loss: 0.4282 - acc: 0.7965 - val_loss: 0.5133 - val_acc: 0.7558\n",
      "Epoch 49/50\n",
      "144000/144000 - 41s - loss: 0.4291 - acc: 0.7969 - val_loss: 0.5144 - val_acc: 0.7547\n",
      "Epoch 50/50\n",
      "144000/144000 - 41s - loss: 0.4282 - acc: 0.7974 - val_loss: 0.5118 - val_acc: 0.7561\n",
      "Training Complete\n"
     ]
    }
   ],
   "source": [
    "model = tf.keras.Sequential([\n",
    "    tf.keras.layers.Embedding(vocab_size+1, embedding_dim, input_length=max_length, weights=[embeddings_matrix], trainable=False),\n",
    "    tf.keras.layers.Dropout(0.2),\n",
    "    tf.keras.layers.Conv1D(64, 5, activation='relu'),\n",
    "    tf.keras.layers.MaxPooling1D(pool_size=4),\n",
    "    tf.keras.layers.LSTM(64),\n",
    "    tf.keras.layers.Dense(1, activation='sigmoid')\n",
    "])\n",
    "model.compile(loss='binary_crossentropy',optimizer='adam',metrics=['accuracy'])\n",
    "model.summary()\n",
    "\n",
    "num_epochs = 50\n",
    "history = model.fit(training_sequences, training_labels, epochs=num_epochs, validation_data=(test_sequences, test_labels), verbose=2)\n",
    "\n",
    "print(\"Training Complete\")\n"
   ]
  },
  {
   "cell_type": "code",
   "execution_count": 0,
   "metadata": {
    "colab": {
     "base_uri": "https://localhost:8080/",
     "height": 608
    },
    "colab_type": "code",
    "id": "GZDp6oyRrBBp",
    "outputId": "8d0976ba-b18b-409f-ffd8-f4f8d3aa0e5b"
   },
   "outputs": [
    {
     "data": {
      "text/plain": [
       "<Figure size 432x288 with 0 Axes>"
      ]
     },
     "execution_count": 10,
     "metadata": {
      "tags": []
     },
     "output_type": "execute_result"
    },
    {
     "data": {
      "image/png": "[encoded data removed]",
      "text/plain": [
       "<Figure size 432x288 with 1 Axes>"
      ]
     },
     "metadata": {
      "tags": []
     },
     "output_type": "display_data"
    },
    {
     "data": {
      "image/png": "[encoded data removed]",
      "text/plain": [
       "<Figure size 432x288 with 1 Axes>"
      ]
     },
     "metadata": {
      "tags": []
     },
     "output_type": "display_data"
    },
    {
     "data": {
      "text/plain": [
       "<Figure size 432x288 with 0 Axes>"
      ]
     },
     "metadata": {
      "tags": []
     },
     "output_type": "display_data"
    }
   ],
   "source": [
    "import matplotlib.image  as mpimg\n",
    "import matplotlib.pyplot as plt\n",
    "\n",
    "#-----------------------------------------------------------\n",
    "# Retrieve a list of list results on training and test data\n",
    "# sets for each training epoch\n",
    "#-----------------------------------------------------------\n",
    "acc=history.history['acc']\n",
    "val_acc=history.history['val_acc']\n",
    "loss=history.history['loss']\n",
    "val_loss=history.history['val_loss']\n",
    "\n",
    "epochs=range(len(acc)) # Get number of epochs\n",
    "\n",
    "#------------------------------------------------\n",
    "# Plot training and validation accuracy per epoch\n",
    "#------------------------------------------------\n",
    "plt.plot(epochs, acc, 'r')\n",
    "plt.plot(epochs, val_acc, 'b')\n",
    "plt.title('Training and validation accuracy')\n",
    "plt.xlabel(\"Epochs\")\n",
    "plt.ylabel(\"Accuracy\")\n",
    "plt.legend([\"Accuracy\", \"Validation Accuracy\"])\n",
    "\n",
    "plt.figure()\n",
    "\n",
    "#------------------------------------------------\n",
    "# Plot training and validation loss per epoch\n",
    "#------------------------------------------------\n",
    "plt.plot(epochs, loss, 'r')\n",
    "plt.plot(epochs, val_loss, 'b')\n",
    "plt.title('Training and validation loss')\n",
    "plt.xlabel(\"Epochs\")\n",
    "plt.ylabel(\"Loss\")\n",
    "plt.legend([\"Loss\", \"Validation Loss\"])\n",
    "\n",
    "plt.figure()\n",
    "\n",
    "\n",
    "# Expected Output\n",
    "# A chart where the validation loss does not increase sharply!"
   ]
  },
  {
   "cell_type": "code",
   "execution_count": 0,
   "metadata": {
    "colab": {},
    "colab_type": "code",
    "id": "l-zxRv0brBFb"
   },
   "outputs": [],
   "source": []
  },
  {
   "cell_type": "code",
   "execution_count": 0,
   "metadata": {
    "colab": {},
    "colab_type": "code",
    "id": "IfUhk4FCrBJh"
   },
   "outputs": [],
   "source": []
  }
 ],
 "metadata": {
  "accelerator": "GPU",
  "colab": {
   "collapsed_sections": [],
   "name": "Pre-trained Embedding with Conv & LSTM",
   "provenance": []
  },
  "kernelspec": {
   "display_name": "Python 3",
   "language": "python",
   "name": "python3"
  },
  "language_info": {
   "codemirror_mode": {
    "name": "ipython",
    "version": 3
   },
   "file_extension": ".py",
   "mimetype": "text/x-python",
   "name": "python",
   "nbconvert_exporter": "python",
   "pygments_lexer": "ipython3",
   "version": "3.7.3"
  }
 },
 "nbformat": 4,
 "nbformat_minor": 1
}
