{
 "cells": [
  {
   "cell_type": "code",
   "execution_count": 0,
   "metadata": {
    "colab": {},
    "colab_type": "code",
    "id": "QnwCiFTv1KDK"
   },
   "outputs": [],
   "source": [
    "from tensorflow.keras.preprocessing.sequence import pad_sequences\n",
    "from tensorflow.keras.layers import Embedding, LSTM, Dense, Dropout, Bidirectional\n",
    "from tensorflow.keras.preprocessing.text import Tokenizer\n",
    "from tensorflow.keras.models import Sequential\n",
    "from tensorflow.keras.optimizers import Adam\n",
    "from tensorflow.keras import regularizers\n",
    "import tensorflow.keras.utils as ku \n",
    "import numpy as np "
   ]
  },
  {
   "cell_type": "code",
   "execution_count": 0,
   "metadata": {
    "colab": {
     "base_uri": "https://localhost:8080/",
     "height": 208
    },
    "colab_type": "code",
    "id": "YPyz15y-1PrN",
    "outputId": "3f84bfd0-ef9e-45b4-d5a4-b15f808385f0"
   },
   "outputs": [
    {
     "name": "stdout",
     "output_type": "stream",
     "text": [
      "--2019-09-10 12:09:50--  https://storage.googleapis.com/laurencemoroney-blog.appspot.com/sonnets.txt\n",
      "Resolving storage.googleapis.com (storage.googleapis.com)... 172.217.212.128, 2607:f8b0:4001:c12::80\n",
      "Connecting to storage.googleapis.com (storage.googleapis.com)|172.217.212.128|:443... connected.\n",
      "HTTP request sent, awaiting response... 200 OK\n",
      "Length: 93578 (91K) [text/plain]\n",
      "Saving to: ‘/tmp/sonnets.txt’\n",
      "\n",
      "\r",
      "/tmp/sonnets.txt      0%[                    ]       0  --.-KB/s               \r",
      "/tmp/sonnets.txt    100%[===================>]  91.38K  --.-KB/s    in 0.001s  \n",
      "\n",
      "2019-09-10 12:09:50 (138 MB/s) - ‘/tmp/sonnets.txt’ saved [93578/93578]\n",
      "\n"
     ]
    }
   ],
   "source": [
    "tokenizer = Tokenizer()\n",
    "!wget --no-check-certificate \\\n",
    "    https://storage.googleapis.com/laurencemoroney-blog.appspot.com/sonnets.txt \\\n",
    "    -O /tmp/sonnets.txt\n",
    "data = open('/tmp/sonnets.txt').read()\n",
    "\n",
    "corpus = data.lower().split(\"\\n\")\n",
    "\n",
    "\n",
    "tokenizer.fit_on_texts(corpus)\n",
    "total_words = len(tokenizer.word_index) + 1\n",
    "\n",
    "# create input sequences using list of tokens\n",
    "input_sequences = []\n",
    "for line in corpus:\n",
    "\ttoken_list = tokenizer.texts_to_sequences([line])[0]\n",
    "\tfor i in range(1, len(token_list)):\n",
    "\t\tn_gram_sequence = token_list[:i+1]\n",
    "\t\tinput_sequences.append(n_gram_sequence)\n",
    "\n",
    "\n",
    "# pad sequences \n",
    "max_sequence_len = max([len(x) for x in input_sequences])\n",
    "input_sequences = np.array(pad_sequences(input_sequences, maxlen=max_sequence_len, padding='pre'))\n",
    "\n",
    "# create predictors and label\n",
    "predictors, label = input_sequences[:,:-1],input_sequences[:,-1]\n",
    "\n",
    "label = ku.to_categorical(label, num_classes=total_words)"
   ]
  },
  {
   "cell_type": "code",
   "execution_count": 0,
   "metadata": {
    "colab": {
     "base_uri": "https://localhost:8080/",
     "height": 661
    },
    "colab_type": "code",
    "id": "oJv0pJXM1SMt",
    "outputId": "e0df36a7-66e7-4597-b120-69258a039fdc"
   },
   "outputs": [
    {
     "name": "stdout",
     "output_type": "stream",
     "text": [
      "WARNING:tensorflow:From /usr/local/lib/python3.6/dist-packages/tensorflow/python/keras/initializers.py:119: calling RandomUniform.__init__ (from tensorflow.python.ops.init_ops) with dtype is deprecated and will be removed in a future version.\n",
      "Instructions for updating:\n",
      "Call initializer instance with the dtype argument instead of passing it to the constructor\n",
      "WARNING:tensorflow:From /usr/local/lib/python3.6/dist-packages/tensorflow/python/ops/init_ops.py:1251: calling VarianceScaling.__init__ (from tensorflow.python.ops.init_ops) with dtype is deprecated and will be removed in a future version.\n",
      "Instructions for updating:\n",
      "Call initializer instance with the dtype argument instead of passing it to the constructor\n",
      "WARNING:tensorflow:From /usr/local/lib/python3.6/dist-packages/tensorflow/python/ops/init_ops.py:97: calling GlorotUniform.__init__ (from tensorflow.python.ops.init_ops) with dtype is deprecated and will be removed in a future version.\n",
      "Instructions for updating:\n",
      "Call initializer instance with the dtype argument instead of passing it to the constructor\n",
      "WARNING:tensorflow:From /usr/local/lib/python3.6/dist-packages/tensorflow/python/ops/init_ops.py:97: calling Orthogonal.__init__ (from tensorflow.python.ops.init_ops) with dtype is deprecated and will be removed in a future version.\n",
      "Instructions for updating:\n",
      "Call initializer instance with the dtype argument instead of passing it to the constructor\n",
      "WARNING:tensorflow:From /usr/local/lib/python3.6/dist-packages/tensorflow/python/ops/init_ops.py:97: calling Zeros.__init__ (from tensorflow.python.ops.init_ops) with dtype is deprecated and will be removed in a future version.\n",
      "Instructions for updating:\n",
      "Call initializer instance with the dtype argument instead of passing it to the constructor\n",
      "Model: \"sequential\"\n",
      "_________________________________________________________________\n",
      "Layer (type)                 Output Shape              Param #   \n",
      "=================================================================\n",
      "embedding (Embedding)        (None, 10, 100)           321100    \n",
      "_________________________________________________________________\n",
      "bidirectional (Bidirectional (None, 10, 300)           301200    \n",
      "_________________________________________________________________\n",
      "dropout (Dropout)            (None, 10, 300)           0         \n",
      "_________________________________________________________________\n",
      "lstm_1 (LSTM)                (None, 100)               160400    \n",
      "_________________________________________________________________\n",
      "dense (Dense)                (None, 1605)              162105    \n",
      "_________________________________________________________________\n",
      "dense_1 (Dense)              (None, 3211)              5156866   \n",
      "=================================================================\n",
      "Total params: 6,101,671\n",
      "Trainable params: 6,101,671\n",
      "Non-trainable params: 0\n",
      "_________________________________________________________________\n",
      "None\n"
     ]
    }
   ],
   "source": [
    "model = Sequential()\n",
    "model.add(Embedding(total_words, 100, input_length=max_sequence_len-1))\n",
    "model.add(Bidirectional(LSTM(150, return_sequences = True)))\n",
    "model.add(Dropout(0.2))\n",
    "model.add(LSTM(100))\n",
    "model.add(Dense(total_words/2, activation='relu', kernel_regularizer=regularizers.l2(0.01)))\n",
    "model.add(Dense(total_words, activation='softmax'))\n",
    "model.compile(loss='categorical_crossentropy', optimizer='adam', metrics=['accuracy'])\n",
    "print(model.summary())\n"
   ]
  },
  {
   "cell_type": "code",
   "execution_count": 0,
   "metadata": {
    "colab": {
     "base_uri": "https://localhost:8080/",
     "height": 1000
    },
    "colab_type": "code",
    "id": "JPuW_Gc71SQV",
    "outputId": "4c29211a-6d3c-4761-9255-b0d64c980aee"
   },
   "outputs": [
    {
     "name": "stdout",
     "output_type": "stream",
     "text": [
      "WARNING:tensorflow:From /usr/local/lib/python3.6/dist-packages/tensorflow/python/ops/math_grad.py:1250: add_dispatch_support.<locals>.wrapper (from tensorflow.python.ops.array_ops) is deprecated and will be removed in a future version.\n",
      "Instructions for updating:\n",
      "Use tf.where in 2.0, which has the same broadcast rule as np.where\n",
      "Epoch 1/100\n",
      "15462/15462 [==============================] - 43s 3ms/sample - loss: 6.9240 - acc: 0.0206\n",
      "Epoch 2/100\n",
      "15462/15462 [==============================] - 41s 3ms/sample - loss: 6.5019 - acc: 0.0223\n",
      "Epoch 3/100\n",
      "15462/15462 [==============================] - 41s 3ms/sample - loss: 6.3953 - acc: 0.0250\n",
      "Epoch 4/100\n",
      "15462/15462 [==============================] - 41s 3ms/sample - loss: 6.2681 - acc: 0.0292\n",
      "Epoch 5/100\n",
      "15462/15462 [==============================] - 41s 3ms/sample - loss: 6.1784 - acc: 0.0357\n",
      "Epoch 6/100\n",
      "15462/15462 [==============================] - 41s 3ms/sample - loss: 6.0951 - acc: 0.0384\n",
      "Epoch 7/100\n",
      "15462/15462 [==============================] - 41s 3ms/sample - loss: 6.0119 - acc: 0.0403\n",
      "Epoch 8/100\n",
      "15462/15462 [==============================] - 41s 3ms/sample - loss: 5.9262 - acc: 0.0435\n",
      "Epoch 9/100\n",
      "15462/15462 [==============================] - 41s 3ms/sample - loss: 5.8283 - acc: 0.0491\n",
      "Epoch 10/100\n",
      "15462/15462 [==============================] - 41s 3ms/sample - loss: 5.7096 - acc: 0.0598\n",
      "Epoch 11/100\n",
      "15462/15462 [==============================] - 41s 3ms/sample - loss: 5.5966 - acc: 0.0655\n",
      "Epoch 12/100\n",
      "15462/15462 [==============================] - 41s 3ms/sample - loss: 5.4759 - acc: 0.0756\n",
      "Epoch 13/100\n",
      "15462/15462 [==============================] - 41s 3ms/sample - loss: 5.3612 - acc: 0.0830\n",
      "Epoch 14/100\n",
      "15462/15462 [==============================] - 41s 3ms/sample - loss: 5.2467 - acc: 0.0918\n",
      "Epoch 15/100\n",
      "15462/15462 [==============================] - 41s 3ms/sample - loss: 5.1360 - acc: 0.0969\n",
      "Epoch 16/100\n",
      "15462/15462 [==============================] - 41s 3ms/sample - loss: 5.0263 - acc: 0.1053\n",
      "Epoch 17/100\n",
      "15462/15462 [==============================] - 41s 3ms/sample - loss: 4.9225 - acc: 0.1142\n",
      "Epoch 18/100\n",
      "15462/15462 [==============================] - 41s 3ms/sample - loss: 4.8137 - acc: 0.1239\n",
      "Epoch 19/100\n",
      "15462/15462 [==============================] - 41s 3ms/sample - loss: 4.7173 - acc: 0.1317\n",
      "Epoch 20/100\n",
      "15462/15462 [==============================] - 41s 3ms/sample - loss: 4.6129 - acc: 0.1407\n",
      "Epoch 21/100\n",
      "15462/15462 [==============================] - 41s 3ms/sample - loss: 4.5195 - acc: 0.1466\n",
      "Epoch 22/100\n",
      "15462/15462 [==============================] - 41s 3ms/sample - loss: 4.4213 - acc: 0.1631\n",
      "Epoch 23/100\n",
      "15462/15462 [==============================] - 41s 3ms/sample - loss: 4.3213 - acc: 0.1709\n",
      "Epoch 24/100\n",
      "15462/15462 [==============================] - 41s 3ms/sample - loss: 4.2144 - acc: 0.1845\n",
      "Epoch 25/100\n",
      "15462/15462 [==============================] - 41s 3ms/sample - loss: 4.1229 - acc: 0.1927\n",
      "Epoch 26/100\n",
      "15462/15462 [==============================] - 41s 3ms/sample - loss: 4.0200 - acc: 0.2071\n",
      "Epoch 27/100\n",
      "15462/15462 [==============================] - 41s 3ms/sample - loss: 3.9248 - acc: 0.2224\n",
      "Epoch 28/100\n",
      "15462/15462 [==============================] - 41s 3ms/sample - loss: 3.8291 - acc: 0.2374\n",
      "Epoch 29/100\n",
      "15462/15462 [==============================] - 41s 3ms/sample - loss: 3.7314 - acc: 0.2529\n",
      "Epoch 30/100\n",
      "15462/15462 [==============================] - 41s 3ms/sample - loss: 3.6445 - acc: 0.2667\n",
      "Epoch 31/100\n",
      "15462/15462 [==============================] - 41s 3ms/sample - loss: 3.5515 - acc: 0.2852\n",
      "Epoch 32/100\n",
      "15462/15462 [==============================] - 41s 3ms/sample - loss: 3.4594 - acc: 0.3060\n",
      "Epoch 33/100\n",
      "15462/15462 [==============================] - 41s 3ms/sample - loss: 3.3748 - acc: 0.3215\n",
      "Epoch 34/100\n",
      "15462/15462 [==============================] - 41s 3ms/sample - loss: 3.2936 - acc: 0.3386\n",
      "Epoch 35/100\n",
      "15462/15462 [==============================] - 41s 3ms/sample - loss: 3.2092 - acc: 0.3602\n",
      "Epoch 36/100\n",
      "15462/15462 [==============================] - 41s 3ms/sample - loss: 3.1227 - acc: 0.3754\n",
      "Epoch 37/100\n",
      "15462/15462 [==============================] - 41s 3ms/sample - loss: 3.0478 - acc: 0.3938\n",
      "Epoch 38/100\n",
      "15462/15462 [==============================] - 41s 3ms/sample - loss: 2.9743 - acc: 0.4118\n",
      "Epoch 39/100\n",
      "15462/15462 [==============================] - 41s 3ms/sample - loss: 2.9067 - acc: 0.4292\n",
      "Epoch 40/100\n",
      "15462/15462 [==============================] - 41s 3ms/sample - loss: 2.8255 - acc: 0.4407\n",
      "Epoch 41/100\n",
      "15462/15462 [==============================] - 41s 3ms/sample - loss: 2.7703 - acc: 0.4537\n",
      "Epoch 42/100\n",
      "15462/15462 [==============================] - 41s 3ms/sample - loss: 2.7041 - acc: 0.4739\n",
      "Epoch 43/100\n",
      "15462/15462 [==============================] - 41s 3ms/sample - loss: 2.6310 - acc: 0.4933\n",
      "Epoch 44/100\n",
      "15462/15462 [==============================] - 41s 3ms/sample - loss: 2.5872 - acc: 0.4981\n",
      "Epoch 45/100\n",
      "15462/15462 [==============================] - 41s 3ms/sample - loss: 2.5522 - acc: 0.5111\n",
      "Epoch 46/100\n",
      "15462/15462 [==============================] - 41s 3ms/sample - loss: 2.4610 - acc: 0.5230\n",
      "Epoch 47/100\n",
      "15462/15462 [==============================] - 41s 3ms/sample - loss: 2.4041 - acc: 0.5410\n",
      "Epoch 48/100\n",
      "15462/15462 [==============================] - 41s 3ms/sample - loss: 2.3565 - acc: 0.5507\n",
      "Epoch 49/100\n",
      "15462/15462 [==============================] - 41s 3ms/sample - loss: 2.3096 - acc: 0.5603\n",
      "Epoch 50/100\n",
      "15462/15462 [==============================] - 41s 3ms/sample - loss: 2.2635 - acc: 0.5691\n",
      "Epoch 51/100\n",
      "15462/15462 [==============================] - 41s 3ms/sample - loss: 2.2119 - acc: 0.5858\n",
      "Epoch 52/100\n",
      "15462/15462 [==============================] - 41s 3ms/sample - loss: 2.1663 - acc: 0.5944\n",
      "Epoch 53/100\n",
      "15462/15462 [==============================] - 41s 3ms/sample - loss: 2.1185 - acc: 0.6046\n",
      "Epoch 54/100\n",
      "15462/15462 [==============================] - 41s 3ms/sample - loss: 2.0911 - acc: 0.6134\n",
      "Epoch 55/100\n",
      "15462/15462 [==============================] - 41s 3ms/sample - loss: 2.0432 - acc: 0.6250\n",
      "Epoch 56/100\n",
      "15462/15462 [==============================] - 41s 3ms/sample - loss: 2.0062 - acc: 0.6314\n",
      "Epoch 57/100\n",
      "15462/15462 [==============================] - 41s 3ms/sample - loss: 1.9728 - acc: 0.6395\n",
      "Epoch 58/100\n",
      "15462/15462 [==============================] - 41s 3ms/sample - loss: 1.9235 - acc: 0.6487\n",
      "Epoch 59/100\n",
      "15462/15462 [==============================] - 41s 3ms/sample - loss: 1.8858 - acc: 0.6590\n",
      "Epoch 60/100\n",
      "15462/15462 [==============================] - 41s 3ms/sample - loss: 1.8724 - acc: 0.6591\n",
      "Epoch 61/100\n",
      "15462/15462 [==============================] - 41s 3ms/sample - loss: 1.8289 - acc: 0.6704\n",
      "Epoch 62/100\n",
      "15462/15462 [==============================] - 41s 3ms/sample - loss: 1.8002 - acc: 0.6779\n",
      "Epoch 63/100\n",
      "15462/15462 [==============================] - 41s 3ms/sample - loss: 1.7658 - acc: 0.6826\n",
      "Epoch 64/100\n",
      "15462/15462 [==============================] - 41s 3ms/sample - loss: 1.7345 - acc: 0.6897\n",
      "Epoch 65/100\n",
      "15462/15462 [==============================] - 41s 3ms/sample - loss: 1.7031 - acc: 0.6991\n",
      "Epoch 66/100\n",
      "15462/15462 [==============================] - 41s 3ms/sample - loss: 1.6879 - acc: 0.6982\n",
      "Epoch 67/100\n",
      "15462/15462 [==============================] - 41s 3ms/sample - loss: 1.6616 - acc: 0.7037\n",
      "Epoch 68/100\n",
      "15462/15462 [==============================] - 41s 3ms/sample - loss: 1.6289 - acc: 0.7141\n",
      "Epoch 69/100\n",
      "15462/15462 [==============================] - 41s 3ms/sample - loss: 1.6014 - acc: 0.7172\n",
      "Epoch 70/100\n",
      "15462/15462 [==============================] - 41s 3ms/sample - loss: 1.5688 - acc: 0.7249\n",
      "Epoch 71/100\n",
      "15462/15462 [==============================] - 41s 3ms/sample - loss: 1.5535 - acc: 0.7275\n",
      "Epoch 72/100\n",
      "15462/15462 [==============================] - 41s 3ms/sample - loss: 1.5376 - acc: 0.7296\n",
      "Epoch 73/100\n",
      "15462/15462 [==============================] - 41s 3ms/sample - loss: 1.5126 - acc: 0.7346\n",
      "Epoch 74/100\n",
      "15462/15462 [==============================] - 41s 3ms/sample - loss: 1.4895 - acc: 0.7380\n",
      "Epoch 75/100\n",
      "15462/15462 [==============================] - 41s 3ms/sample - loss: 1.4681 - acc: 0.7463\n",
      "Epoch 76/100\n",
      "15462/15462 [==============================] - 41s 3ms/sample - loss: 1.4567 - acc: 0.7473\n",
      "Epoch 77/100\n",
      "15462/15462 [==============================] - 41s 3ms/sample - loss: 1.4321 - acc: 0.7488\n",
      "Epoch 78/100\n",
      "15462/15462 [==============================] - 41s 3ms/sample - loss: 1.3999 - acc: 0.7568\n",
      "Epoch 79/100\n",
      "15462/15462 [==============================] - 41s 3ms/sample - loss: 1.3899 - acc: 0.7616\n",
      "Epoch 80/100\n",
      "15462/15462 [==============================] - 41s 3ms/sample - loss: 1.3840 - acc: 0.7586\n",
      "Epoch 81/100\n",
      "15462/15462 [==============================] - 41s 3ms/sample - loss: 1.3670 - acc: 0.7659\n",
      "Epoch 82/100\n",
      "15462/15462 [==============================] - 41s 3ms/sample - loss: 1.3463 - acc: 0.7673\n",
      "Epoch 83/100\n",
      "15462/15462 [==============================] - 41s 3ms/sample - loss: 1.3499 - acc: 0.7632\n",
      "Epoch 84/100\n",
      "15462/15462 [==============================] - 41s 3ms/sample - loss: 1.3190 - acc: 0.7702\n",
      "Epoch 85/100\n",
      "15462/15462 [==============================] - 40s 3ms/sample - loss: 1.3072 - acc: 0.7736\n",
      "Epoch 86/100\n",
      "15462/15462 [==============================] - 40s 3ms/sample - loss: 1.2791 - acc: 0.7795\n",
      "Epoch 87/100\n",
      "15462/15462 [==============================] - 40s 3ms/sample - loss: 1.2648 - acc: 0.7831\n",
      "Epoch 88/100\n",
      "15462/15462 [==============================] - 41s 3ms/sample - loss: 1.2580 - acc: 0.7855\n",
      "Epoch 89/100\n",
      "15462/15462 [==============================] - 41s 3ms/sample - loss: 1.2431 - acc: 0.7844\n",
      "Epoch 90/100\n",
      "15462/15462 [==============================] - 41s 3ms/sample - loss: 1.2394 - acc: 0.7842\n",
      "Epoch 91/100\n",
      "15462/15462 [==============================] - 41s 3ms/sample - loss: 1.2305 - acc: 0.7841\n",
      "Epoch 92/100\n",
      "15462/15462 [==============================] - 41s 3ms/sample - loss: 1.2096 - acc: 0.7904\n",
      "Epoch 93/100\n",
      "15462/15462 [==============================] - 41s 3ms/sample - loss: 1.1913 - acc: 0.7963\n",
      "Epoch 94/100\n",
      "15462/15462 [==============================] - 41s 3ms/sample - loss: 1.1784 - acc: 0.7968\n",
      "Epoch 95/100\n",
      "15462/15462 [==============================] - 41s 3ms/sample - loss: 1.1653 - acc: 0.7994\n",
      "Epoch 96/100\n",
      "15462/15462 [==============================] - 41s 3ms/sample - loss: 1.1756 - acc: 0.7945\n",
      "Epoch 97/100\n",
      "15462/15462 [==============================] - 41s 3ms/sample - loss: 1.1690 - acc: 0.7954\n",
      "Epoch 98/100\n",
      "15462/15462 [==============================] - 41s 3ms/sample - loss: 1.1610 - acc: 0.7963\n",
      "Epoch 99/100\n",
      "15462/15462 [==============================] - 41s 3ms/sample - loss: 1.1448 - acc: 0.8003\n",
      "Epoch 100/100\n",
      "15462/15462 [==============================] - 41s 3ms/sample - loss: 1.1243 - acc: 0.8014\n"
     ]
    }
   ],
   "source": [
    " history = model.fit(predictors, label, epochs=100, verbose=1)"
   ]
  },
  {
   "cell_type": "code",
   "execution_count": 0,
   "metadata": {
    "colab": {
     "base_uri": "https://localhost:8080/",
     "height": 545
    },
    "colab_type": "code",
    "id": "sc3y_p791SdM",
    "outputId": "ec400212-157a-4249-ef6f-fbc8a643d8e5"
   },
   "outputs": [
    {
     "data": {
      "image/png": "[encoded data removed]",
      "text/plain": [
       "<Figure size 432x288 with 1 Axes>"
      ]
     },
     "metadata": {
      "tags": []
     },
     "output_type": "display_data"
    },
    {
     "data": {
      "image/png": "[encoded data removed]",
      "text/plain": [
       "<Figure size 432x288 with 1 Axes>"
      ]
     },
     "metadata": {
      "tags": []
     },
     "output_type": "display_data"
    }
   ],
   "source": [
    "import matplotlib.pyplot as plt\n",
    "acc = history.history['acc']\n",
    "loss = history.history['loss']\n",
    "\n",
    "epochs = range(len(acc))\n",
    "\n",
    "plt.plot(epochs, acc, 'b', label='Training accuracy')\n",
    "plt.title('Training accuracy')\n",
    "\n",
    "plt.figure()\n",
    "\n",
    "plt.plot(epochs, loss, 'b', label='Training Loss')\n",
    "plt.title('Training loss')\n",
    "plt.legend()\n",
    "\n",
    "plt.show()"
   ]
  },
  {
   "cell_type": "code",
   "execution_count": 0,
   "metadata": {
    "colab": {
     "base_uri": "https://localhost:8080/",
     "height": 55
    },
    "colab_type": "code",
    "id": "3NCBLSPY1YW9",
    "outputId": "180264fa-b6dc-4169-d7ed-1f54d7ad6934"
   },
   "outputs": [
    {
     "name": "stdout",
     "output_type": "stream",
     "text": [
      "Help me Obi Wan Kenobi, you're my only hope so every part lies weep bearing men bearing eyes view spent deem'd rare strong tomb things fired date of men kill'd fangled ill new date days alone knowing thee true prove men light blind skill bright eyes 'will ' here to be strong small sun heart's fired fired date days on hate date on go hate days dyed dyed lies days dyed 'will ' still still alone another ill so doth spent spent blind loss so rhyme ' find her pride hate days alone here so look there kind still old young ' away her gain doth done have not\n"
     ]
    }
   ],
   "source": [
    "seed_text = \"Help me Obi Wan Kenobi, you're my only hope\"\n",
    "next_words = 100\n",
    "  \n",
    "for _ in range(next_words):\n",
    "\ttoken_list = tokenizer.texts_to_sequences([seed_text])[0]\n",
    "\ttoken_list = pad_sequences([token_list], maxlen=max_sequence_len-1, padding='pre')\n",
    "\tpredicted = model.predict_classes(token_list, verbose=0)\n",
    "\toutput_word = \"\"\n",
    "\tfor word, index in tokenizer.word_index.items():\n",
    "\t\tif index == predicted:\n",
    "\t\t\toutput_word = word\n",
    "\t\t\tbreak\n",
    "\tseed_text += \" \" + output_word\n",
    "print(seed_text)"
   ]
  }
 ],
 "metadata": {
  "accelerator": "GPU",
  "colab": {
   "collapsed_sections": [],
   "name": "Sequence model NLP",
   "provenance": []
  },
  "kernelspec": {
   "display_name": "Python 3",
   "language": "python",
   "name": "python3"
  },
  "language_info": {
   "codemirror_mode": {
    "name": "ipython",
    "version": 3
   },
   "file_extension": ".py",
   "mimetype": "text/x-python",
   "name": "python",
   "nbconvert_exporter": "python",
   "pygments_lexer": "ipython3",
   "version": "3.7.3"
  }
 },
 "nbformat": 4,
 "nbformat_minor": 1
}
